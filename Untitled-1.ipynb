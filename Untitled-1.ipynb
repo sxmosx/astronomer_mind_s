{
 "cells": [
  {
   "cell_type": "code",
   "execution_count": 1,
   "id": "b16a5014",
   "metadata": {},
   "outputs": [
    {
     "name": "stdout",
     "output_type": "stream",
     "text": [
      "Dark energy is mysterious.\n"
     ]
    }
   ],
   "source": [
    "print(\"Dark energy is mysterious.\")"
   ]
  },
  {
   "cell_type": "code",
   "execution_count": null,
   "id": "d57b7c89",
   "metadata": {},
   "outputs": [],
   "source": []
  }
 ],
 "metadata": {
  "kernelspec": {
   "display_name": "Python 3",
   "language": "python",
   "name": "python3"
  },
  "language_info": {
   "codemirror_mode": {
    "name": "ipython",
    "version": 3
   },
   "file_extension": ".py",
   "mimetype": "text/x-python",
   "name": "python",
   "nbconvert_exporter": "python",
   "pygments_lexer": "ipython3",
   "version": "3.9.13"
  }
 },
 "nbformat": 4,
 "nbformat_minor": 5
}
